{
 "cells": [
  {
   "cell_type": "code",
   "execution_count": 1,
   "metadata": {},
   "outputs": [],
   "source": [
    "import numpy as np\n",
    "import matplotlib.pyplot as plt\n",
    "import scipy.integrate as integrate"
   ]
  },
  {
   "cell_type": "markdown",
   "metadata": {},
   "source": [
    "# 4.5.4b"
   ]
  },
  {
   "cell_type": "code",
   "execution_count": 2,
   "metadata": {},
   "outputs": [],
   "source": [
    "def sample_mean_x(n, p):\n",
    "    return np.random.binomial(n, p)/n"
   ]
  },
  {
   "cell_type": "code",
   "execution_count": 3,
   "metadata": {},
   "outputs": [
    {
     "data": {
      "text/plain": [
       "0.29"
      ]
     },
     "execution_count": 3,
     "metadata": {},
     "output_type": "execute_result"
    }
   ],
   "source": [
    "sample_mean_x(1000, 0.3)"
   ]
  },
  {
   "cell_type": "code",
   "execution_count": 4,
   "metadata": {},
   "outputs": [],
   "source": [
    "def coverage_estimate(n, p, samples, epsilon):\n",
    "    acc = 0\n",
    "    for i in range(samples):\n",
    "        temp_samp = sample_mean_x(n, p)\n",
    "        if(abs(temp_samp - p) <= epsilon):\n",
    "            acc += 1\n",
    "    return acc / samples"
   ]
  },
  {
   "cell_type": "code",
   "execution_count": 5,
   "metadata": {},
   "outputs": [
    {
     "data": {
      "text/plain": [
       "0.797"
      ]
     },
     "execution_count": 5,
     "metadata": {},
     "output_type": "execute_result"
    }
   ],
   "source": [
    "alpha = 0.05\n",
    "bernoulli_samples = 100\n",
    "coverage_estimate(17, 0.3, 1000, np.sqrt(np.log(2/alpha)/(2 * bernoulli_samples) ))"
   ]
  },
  {
   "cell_type": "code",
   "execution_count": 6,
   "metadata": {},
   "outputs": [],
   "source": [
    "n_arr = []\n",
    "coverage_arr = []\n",
    "interval_size_arr = []\n",
    "for i in range(1,10000):\n",
    "    n_arr.append(i)\n",
    "    eps = np.sqrt(np.log(2/alpha)/(2 * i))\n",
    "    interval_size_arr.append(eps)\n",
    "    coverage_arr.append(coverage_estimate(i, 0.4, 1000, eps))"
   ]
  },
  {
   "cell_type": "code",
   "execution_count": 7,
   "metadata": {},
   "outputs": [
    {
     "data": {
      "text/plain": [
       "[<matplotlib.lines.Line2D at 0x1f703eb9d08>]"
      ]
     },
     "execution_count": 7,
     "metadata": {},
     "output_type": "execute_result"
    },
    {
     "data": {
      "image/png": "[encoded data removed]",
      "text/plain": [
       "<Figure size 432x288 with 1 Axes>"
      ]
     },
     "metadata": {
      "needs_background": "light"
     },
     "output_type": "display_data"
    }
   ],
   "source": [
    "plt.plot(n_arr, coverage_arr)"
   ]
  },
  {
   "cell_type": "markdown",
   "metadata": {},
   "source": [
    "# 4.5.4c"
   ]
  },
  {
   "cell_type": "code",
   "execution_count": 8,
   "metadata": {},
   "outputs": [
    {
     "data": {
      "text/plain": [
       "[<matplotlib.lines.Line2D at 0x1f704f4a0c8>]"
      ]
     },
     "execution_count": 8,
     "metadata": {},
     "output_type": "execute_result"
    },
    {
     "data": {
      "image/png": "[encoded data removed]",
      "text/plain": [
       "<Figure size 432x288 with 1 Axes>"
      ]
     },
     "metadata": {
      "needs_background": "light"
     },
     "output_type": "display_data"
    }
   ],
   "source": [
    "fig = plt.figure()\n",
    "ax = fig.add_subplot(1,1,1)\n",
    "ax.set_yscale('log')\n",
    "plt.plot(n_arr, 2*np.array(interval_size_arr))"
   ]
  },
  {
   "cell_type": "markdown",
   "metadata": {},
   "source": [
    "How large should n be if we want the length of the interval to be no more then 0.05?\n",
    "\n",
    "Soln: 737 according to our experiment by bisecting interval size"
   ]
  },
  {
   "cell_type": "code",
   "execution_count": 9,
   "metadata": {},
   "outputs": [],
   "source": [
    "def find_tolarence(delta):\n",
    "    h_idx = len(interval_size_arr)\n",
    "    l_idx = 0\n",
    "    while h_idx - l_idx > 1:\n",
    "        new_idx = int(np.floor((h_idx + l_idx)/2))\n",
    "        print(new_idx)\n",
    "        if interval_size_arr[new_idx] < delta:\n",
    "            h_idx = new_idx\n",
    "        else:\n",
    "            l_idx = new_idx\n",
    "    return h_idx, l_idx"
   ]
  },
  {
   "cell_type": "code",
   "execution_count": 10,
   "metadata": {},
   "outputs": [
    {
     "name": "stdout",
     "output_type": "stream",
     "text": [
      "4999\n",
      "2499\n",
      "1249\n",
      "624\n",
      "936\n",
      "780\n",
      "702\n",
      "741\n",
      "721\n",
      "731\n",
      "736\n",
      "738\n",
      "737\n"
     ]
    },
    {
     "data": {
      "text/plain": [
       "(737, 736)"
      ]
     },
     "execution_count": 10,
     "metadata": {},
     "output_type": "execute_result"
    }
   ],
   "source": [
    "find_tolarence(0.05)"
   ]
  },
  {
   "cell_type": "markdown",
   "metadata": {},
   "source": [
    "# 4.6"
   ]
  },
  {
   "cell_type": "code",
   "execution_count": 53,
   "metadata": {},
   "outputs": [],
   "source": [
    "def p_abs_z_g_t(t):\n",
    "    return -1 * np.sqrt(2/np.pi) * integrate.quad(lambda x: np.exp(-x*x/2.0), 0, t)[0] + 1\n",
    "def markov_bound(t, k):\n",
    "    num_samples = 1000\n",
    "    sampled_mean = np.sum(np.abs(np.random.normal(size=num_samples))**k)/num_samples\n",
    "    return (np.sqrt(2/np.pi))/t**k\n",
    "def mills_bound(t):\n",
    "    return (np.sqrt(2/np.pi))*(np.exp((-1*t**2) /2))/t"
   ]
  },
  {
   "cell_type": "code",
   "execution_count": 54,
   "metadata": {},
   "outputs": [
    {
     "data": {
      "text/plain": [
       "0.04550026389635842"
      ]
     },
     "execution_count": 54,
     "metadata": {},
     "output_type": "execute_result"
    }
   ],
   "source": [
    "p_abs_z_g_t(2)"
   ]
  },
  {
   "cell_type": "code",
   "execution_count": 55,
   "metadata": {},
   "outputs": [
    {
     "data": {
      "text/plain": [
       "0.04986778505017909"
      ]
     },
     "execution_count": 55,
     "metadata": {},
     "output_type": "execute_result"
    }
   ],
   "source": [
    "markov_bound(2, 5)*2"
   ]
  },
  {
   "cell_type": "code",
   "execution_count": 56,
   "metadata": {},
   "outputs": [
    {
     "data": {
      "text/plain": [
       "0.05399096651318806"
      ]
     },
     "execution_count": 56,
     "metadata": {},
     "output_type": "execute_result"
    }
   ],
   "source": [
    "mills_bound(2)"
   ]
  },
  {
   "cell_type": "code",
   "execution_count": 59,
   "metadata": {},
   "outputs": [],
   "source": [
    "x = np.linspace(0.0001, 10, num=20)"
   ]
  },
  {
   "cell_type": "code",
   "execution_count": 65,
   "metadata": {},
   "outputs": [],
   "source": [
    "mills_bounds = []\n",
    "markov_bound1 = []\n",
    "markov_bound2 = []\n",
    "markov_bound3 = []\n",
    "markov_bound4 = []\n",
    "markov_bound5 = []\n",
    "p = []\n",
    "for el in x:\n",
    "    p.append(p_abs_z_g_t(el))\n",
    "    mills_bounds.append(mills_bound(el))\n",
    "    markov_bound1.append(markov_bound(el, 1))\n",
    "    markov_bound2.append(markov_bound(el, 2))\n",
    "    markov_bound3.append(markov_bound(el, 3))\n",
    "    markov_bound4.append(markov_bound(el, 4))\n",
    "    markov_bound5.append(markov_bound(el, 5))\n"
   ]
  },
  {
   "cell_type": "code",
   "execution_count": 67,
   "metadata": {},
   "outputs": [
    {
     "data": {
      "text/plain": [
       "<matplotlib.legend.Legend at 0x1f706a8ab08>"
      ]
     },
     "execution_count": 67,
     "metadata": {},
     "output_type": "execute_result"
    },
    {
     "data": {
      "image/png": "[encoded data removed]",
      "text/plain": [
       "<Figure size 432x288 with 1 Axes>"
      ]
     },
     "metadata": {
      "needs_background": "light"
     },
     "output_type": "display_data"
    }
   ],
   "source": [
    "fig = plt.figure()\n",
    "ax = fig.add_subplot(1,1,1)\n",
    "ax.set_yscale('log')\n",
    "plt.plot(x,p, label='Numeric Estimation')\n",
    "plt.plot(x,markov_bound1, label='markov k=1')\n",
    "plt.plot(x,markov_bound2, label='markov k=2')\n",
    "plt.plot(x,markov_bound3, label='markov k=3')\n",
    "plt.plot(x,markov_bound4, label='markov k=4')\n",
    "plt.plot(x,markov_bound5, label='markov k=5')\n",
    "plt.plot(x,mills_bounds, label='mills bound')\n",
    "ax.legend()"
   ]
  },
  {
   "cell_type": "code",
   "execution_count": null,
   "metadata": {},
   "outputs": [],
   "source": []
  }
 ],
 "metadata": {
  "kernelspec": {
   "display_name": "Python 3",
   "language": "python",
   "name": "python3"
  },
  "language_info": {
   "codemirror_mode": {
    "name": "ipython",
    "version": 3
   },
   "file_extension": ".py",
   "mimetype": "text/x-python",
   "name": "python",
   "nbconvert_exporter": "python",
   "pygments_lexer": "ipython3",
   "version": "3.7.6"
  }
 },
 "nbformat": 4,
 "nbformat_minor": 4
}
