{
 "cells": [
  {
   "cell_type": "code",
   "execution_count": 32,
   "metadata": {},
   "outputs": [],
   "source": [
    "import numpy as np\n",
    "import matplotlib.pyplot as plt"
   ]
  },
  {
   "cell_type": "markdown",
   "metadata": {},
   "source": [
    "# 4.5.4b"
   ]
  },
  {
   "cell_type": "code",
   "execution_count": 5,
   "metadata": {},
   "outputs": [],
   "source": [
    "def sample_mean_x(n, p):\n",
    "    return np.random.binomial(n, p)/n"
   ]
  },
  {
   "cell_type": "code",
   "execution_count": 11,
   "metadata": {},
   "outputs": [
    {
     "data": {
      "text/plain": [
       "0.286"
      ]
     },
     "execution_count": 11,
     "metadata": {},
     "output_type": "execute_result"
    }
   ],
   "source": [
    "sample_mean_x(1000, 0.3)"
   ]
  },
  {
   "cell_type": "code",
   "execution_count": 12,
   "metadata": {},
   "outputs": [],
   "source": [
    "def coverage_estimate(n, p, samples, epsilon):\n",
    "    acc = 0\n",
    "    for i in range(samples):\n",
    "        temp_samp = sample_mean_x(n, p)\n",
    "        if(abs(temp_samp - p) <= epsilon):\n",
    "            acc += 1\n",
    "    return acc / samples"
   ]
  },
  {
   "cell_type": "code",
   "execution_count": 29,
   "metadata": {},
   "outputs": [
    {
     "data": {
      "text/plain": [
       "0.826"
      ]
     },
     "execution_count": 29,
     "metadata": {},
     "output_type": "execute_result"
    }
   ],
   "source": [
    "alpha = 0.05\n",
    "bernoulli_samples = 100\n",
    "coverage_estimate(17, 0.3, 1000, np.sqrt(np.log(2/alpha)/(2 * bernoulli_samples) ))"
   ]
  },
  {
   "cell_type": "code",
   "execution_count": 40,
   "metadata": {},
   "outputs": [],
   "source": [
    "n_arr = []\n",
    "coverage_arr = []\n",
    "interval_size_arr = []\n",
    "for i in range(1,10000):\n",
    "    n_arr.append(i)\n",
    "    eps = np.sqrt(np.log(2/alpha)/(2 * i))\n",
    "    interval_size_arr.append(eps)\n",
    "    coverage_arr.append(coverage_estimate(i, 0.4, 1000, eps))"
   ]
  },
  {
   "cell_type": "code",
   "execution_count": 41,
   "metadata": {},
   "outputs": [
    {
     "data": {
      "text/plain": [
       "[<matplotlib.lines.Line2D at 0x1b18e93ca48>]"
      ]
     },
     "execution_count": 41,
     "metadata": {},
     "output_type": "execute_result"
    },
    {
     "data": {
      "image/png": "[encoded data removed]",
      "text/plain": [
       "<Figure size 432x288 with 1 Axes>"
      ]
     },
     "metadata": {
      "needs_background": "light"
     },
     "output_type": "display_data"
    }
   ],
   "source": [
    "plt.plot(n_arr, coverage_arr)"
   ]
  },
  {
   "cell_type": "markdown",
   "metadata": {},
   "source": [
    "# 4.5.4c"
   ]
  },
  {
   "cell_type": "code",
   "execution_count": 45,
   "metadata": {},
   "outputs": [
    {
     "data": {
      "text/plain": [
       "[<matplotlib.lines.Line2D at 0x1b18eba7d08>]"
      ]
     },
     "execution_count": 45,
     "metadata": {},
     "output_type": "execute_result"
    },
    {
     "data": {
      "image/png": "[encoded data removed]",
      "text/plain": [
       "<Figure size 432x288 with 1 Axes>"
      ]
     },
     "metadata": {
      "needs_background": "light"
     },
     "output_type": "display_data"
    }
   ],
   "source": [
    "fig = plt.figure()\n",
    "ax = fig.add_subplot(1,1,1)\n",
    "ax.set_yscale('log')\n",
    "plt.plot(n_arr, 2*np.array(interval_size_arr))"
   ]
  },
  {
   "cell_type": "markdown",
   "metadata": {},
   "source": [
    "How large should n be if we want the length of the interval to be no more then 0.05?\n",
    "\n",
    "Soln: 737 according to our experiment by bisecting interval size"
   ]
  },
  {
   "cell_type": "code",
   "execution_count": 73,
   "metadata": {},
   "outputs": [],
   "source": [
    "def find_tolarence(delta):\n",
    "    h_idx = len(interval_size_arr)\n",
    "    l_idx = 0\n",
    "    while h_idx - l_idx > 1:\n",
    "        new_idx = int(np.floor((h_idx + l_idx)/2))\n",
    "        print(new_idx)\n",
    "        if interval_size_arr[new_idx] < delta:\n",
    "            h_idx = new_idx\n",
    "        else:\n",
    "            l_idx = new_idx\n",
    "    return h_idx, l_idx"
   ]
  },
  {
   "cell_type": "code",
   "execution_count": 74,
   "metadata": {},
   "outputs": [
    {
     "name": "stdout",
     "output_type": "stream",
     "text": [
      "4999\n",
      "2499\n",
      "1249\n",
      "624\n",
      "936\n",
      "780\n",
      "702\n",
      "741\n",
      "721\n",
      "731\n",
      "736\n",
      "738\n",
      "737\n"
     ]
    },
    {
     "data": {
      "text/plain": [
       "(737, 736)"
      ]
     },
     "execution_count": 74,
     "metadata": {},
     "output_type": "execute_result"
    }
   ],
   "source": [
    "find_tolarence(0.05)"
   ]
  },
  {
   "cell_type": "code",
   "execution_count": null,
   "metadata": {},
   "outputs": [],
   "source": []
  }
 ],
 "metadata": {
  "kernelspec": {
   "display_name": "Python 3",
   "language": "python",
   "name": "python3"
  },
  "language_info": {
   "codemirror_mode": {
    "name": "ipython",
    "version": 3
   },
   "file_extension": ".py",
   "mimetype": "text/x-python",
   "name": "python",
   "nbconvert_exporter": "python",
   "pygments_lexer": "ipython3",
   "version": "3.7.6"
  }
 },
 "nbformat": 4,
 "nbformat_minor": 4
}
